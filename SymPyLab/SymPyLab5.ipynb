{
  "nbformat": 4,
  "nbformat_minor": 0,
  "metadata": {
    "colab": {
      "name": "SymPyLab.ipynb",
      "provenance": [],
      "collapsed_sections": []
    },
    "kernelspec": {
      "name": "python3",
      "display_name": "Python 3"
    }
  },
  "cells": [
    {
      "cell_type": "markdown",
      "metadata": {
        "id": "vtY1shFnMal_"
      },
      "source": [
        "# SymPyLab\n",
        "\n",
        "**INTEGRANTES**\n",
        "\n",
        "Ivonne Nathalia Uribe Lara\n",
        "\n",
        "David Garzon\n",
        "\n",
        "\n",
        "SymPy’s documentation\n",
        "- https://docs.sympy.org/latest/index.html\n"
      ]
    },
    {
      "cell_type": "markdown",
      "metadata": {
        "id": "2U0fAIf5G4rR"
      },
      "source": [
        "## SymPy’s polynomials \n",
        "- https://docs.sympy.org/latest/modules/polys/basics.html#polynomials \n",
        "\n",
        "- (x-1)(x-2)(x-3)(x-4)(x-5) = x^5 - 15 x^4  + 85 x^3 - 225 x^2 + 274 x - 120\n",
        "\n",
        "- (x^5 - 15 x^4  + 85 x^3 - 225 x^2 + 274 x - 120) / (x-1) = x^4  - 14 x^3  + 71 x^2  - 154 x + 120"
      ]
    },
    {
      "cell_type": "markdown",
      "metadata": {
        "id": "GSRpl42A6UXg"
      },
      "source": [
        "<img src=\"https://raw.githubusercontent.com/gjhernandezp/algorithms/master/SymPyLab/sympylabwolfram1.jpg\" /> <img src=\"https://raw.githubusercontent.com/gjhernandezp/algorithms/master/SymPyLab/sympylabwolfram3.jpg\" />\n"
      ]
    },
    {
      "cell_type": "code",
      "metadata": {
        "id": "Fw1yPZWLMb5P",
        "outputId": "29f091b4-5774-44bb-c542-827f1b0c9340",
        "colab": {
          "base_uri": "https://localhost:8080/",
          "height": 156
        }
      },
      "source": [
        "from sympy import Symbol\n",
        "from sympy import div\n",
        "\n",
        "x = Symbol('x')\n",
        "\n",
        "p = x**5 - 15*x**4  + 85*x**3 - 225*x**2 + 274*x - 120\n",
        "\n",
        "p, r = div(p,  x-1)\n",
        "\n",
        "print(p)\n",
        "print(r)\n",
        "\n",
        "p, r = div(p,  x-2)\n",
        "\n",
        "print(p)\n",
        "print(r)\n",
        "\n",
        "p, r = div(p,  x-3)\n",
        "\n",
        "print(p)\n",
        "print(r)\n",
        "\n",
        "p, r = div(p,  x-4)\n",
        "\n",
        "print(p)\n",
        "print(r)\n",
        "\n"
      ],
      "execution_count": null,
      "outputs": [
        {
          "output_type": "stream",
          "text": [
            "x**4 - 14*x**3 + 71*x**2 - 154*x + 120\n",
            "0\n",
            "x**3 - 12*x**2 + 47*x - 60\n",
            "0\n",
            "x**2 - 9*x + 20\n",
            "0\n",
            "x - 5\n",
            "0\n"
          ],
          "name": "stdout"
        }
      ]
    },
    {
      "cell_type": "markdown",
      "metadata": {
        "id": "qrWQ1YKn0a2u"
      },
      "source": [
        "Edición\n",
        "\n",
        " Polinomio:\n",
        " \n",
        " (x-1)(x-2)(x-3)(x-4)(x-5)(x-6)(x-7)(x-8)(x-9)(x-10) = x^10 - 55x^9 = 1320x^8 - 18150x^7 + 157773x^6 - 902055x^5 + 3416930x^4 + 8409500x^3 - 10628640x + 3628800\n",
        "\n",
        "\n",
        "(x-1)(x-2)(x-3)(x-4)(x-5)(x-6)(x-7)(x-8)(x-9)(x-10)/(x-1) = x^9 - 54x^8 + 1266x^7 - 16884x^6 + 140889x^5 - 761166x^4 + 2655764^x^3 - 5753736^x^2 + 6999840^x - 3628800\n",
        "\n",
        "\n",
        "wolfram:\n",
        " \n",
        "\n",
        "\n",
        "<img src= 'https://github.com/dgarzona/AlgorithmsUN2020II/blob/master/SymPyLab/1.png?raw=true' /> <img src= 'https://github.com/dgarzona/AlgorithmsUN2020II/blob/master/SymPyLab/2c.png?raw=true'/>"
      ]
    },
    {
      "cell_type": "code",
      "metadata": {
        "id": "6VTPA2Ewuui8",
        "outputId": "5e4ec507-5d5e-450c-e0cc-6f38ccc9803f",
        "colab": {
          "base_uri": "https://localhost:8080/"
        }
      },
      "source": [
        "#edicion\n",
        "\n",
        "from sympy import Symbol\n",
        "from sympy import div\n",
        "\n",
        "x = Symbol('x')\n",
        "\n",
        "p = (x-1)*(x-2)*(x-3)*(x-4)*(x-5)*(x-6)*(x-7)*(x-8)*(x-9)*(x-10)\n",
        "\n",
        "p, r = div(p,  x-1)\n",
        "\n",
        "print(p)\n",
        "print(r)\n",
        "\n",
        "p, r = div(p,  x-2)\n",
        "\n",
        "print(p)\n",
        "print(r)\n",
        "\n",
        "p, r = div(p,  x-3)\n",
        "\n",
        "print(p)\n",
        "print(r)\n",
        "\n",
        "p, r = div(p,  x-4)\n",
        "\n",
        "print(p)\n",
        "print(r)\n",
        "\n",
        "p, r = div(p,  x-5)\n",
        "\n",
        "print(p)\n",
        "print(r)\n",
        "\n",
        "p, r = div(p,  x-6)\n",
        "\n",
        "print(p)\n",
        "print(r)\n",
        "\n",
        "p, r = div(p,  x-7)\n",
        "\n",
        "print(p)\n",
        "print(r)\n",
        "\n",
        "p, r = div(p,  x-8)\n",
        "\n",
        "print(p)\n",
        "print(r)\n",
        "\n",
        "p, r = div(p,  x-9)\n",
        "\n",
        "print(p)\n",
        "print(r)\n",
        "\n"
      ],
      "execution_count": null,
      "outputs": [
        {
          "output_type": "stream",
          "text": [
            "x**9 - 54*x**8 + 1266*x**7 - 16884*x**6 + 140889*x**5 - 761166*x**4 + 2655764*x**3 - 5753736*x**2 + 6999840*x - 3628800\n",
            "0\n",
            "x**8 - 52*x**7 + 1162*x**6 - 14560*x**5 + 111769*x**4 - 537628*x**3 + 1580508*x**2 - 2592720*x + 1814400\n",
            "0\n",
            "x**7 - 49*x**6 + 1015*x**5 - 11515*x**4 + 77224*x**3 - 305956*x**2 + 662640*x - 604800\n",
            "0\n",
            "x**6 - 45*x**5 + 835*x**4 - 8175*x**3 + 44524*x**2 - 127860*x + 151200\n",
            "0\n",
            "x**5 - 40*x**4 + 635*x**3 - 5000*x**2 + 19524*x - 30240\n",
            "0\n",
            "x**4 - 34*x**3 + 431*x**2 - 2414*x + 5040\n",
            "0\n",
            "x**3 - 27*x**2 + 242*x - 720\n",
            "0\n",
            "x**2 - 19*x + 90\n",
            "0\n",
            "x - 10\n",
            "0\n"
          ],
          "name": "stdout"
        }
      ]
    },
    {
      "cell_type": "markdown",
      "metadata": {
        "id": "LrP1xT6VKZrE"
      },
      "source": [
        "## SymPy’s polynomial simple univariate polynomial factorization\n",
        "- https://docs.sympy.org/latest/modules/polys/wester.html#simple-univariate-polynomial-factorization\n",
        "- factor(x\\*\\*5 - 15\\*x\\*\\*4  + 85\\*x\\*\\*3 - 225\\*x\\*\\*2 + 274\\*x - 120)"
      ]
    },
    {
      "cell_type": "markdown",
      "metadata": {
        "id": "2NPChCoPLsls"
      },
      "source": [
        "<img src=\"https://raw.githubusercontent.com/gjhernandezp/algorithms/master/SymPyLab/sympylabwolfram4.jpg\" />\n"
      ]
    },
    {
      "cell_type": "code",
      "metadata": {
        "id": "i2vHjXOIKvQu",
        "outputId": "16ede245-703f-44d3-b66f-85f3eb7b006c",
        "colab": {
          "base_uri": "https://localhost:8080/"
        }
      },
      "source": [
        "from sympy import *\n",
        "x = Symbol('x')\n",
        "factor(x**5 - 15*x**4  + 85*x**3 - 225*x**2 + 274*x - 120)"
      ],
      "execution_count": null,
      "outputs": [
        {
          "output_type": "execute_result",
          "data": {
            "text/plain": [
              "(x - 5)*(x - 4)*(x - 3)*(x - 2)*(x - 1)"
            ]
          },
          "metadata": {
            "tags": []
          },
          "execution_count": 8
        }
      ]
    },
    {
      "cell_type": "markdown",
      "metadata": {
        "id": "aqklLDrZ53Va"
      },
      "source": [
        "Edición\n",
        "\n",
        "factor(x^4 - 46x^3 + 233x^2 + 5656x + 9996)\n",
        "\n",
        "<img src=\"https://github.com/dgarzona/AlgorithmsUN2020II/blob/master/SymPyLab/3.png?raw=true\" />\n"
      ]
    },
    {
      "cell_type": "code",
      "metadata": {
        "id": "0XDKn9zr62VG",
        "outputId": "89fce907-4ddb-4494-bf24-b810201df2c1",
        "colab": {
          "base_uri": "https://localhost:8080/"
        }
      },
      "source": [
        "from sympy import *\n",
        "x = Symbol('x')\n",
        "factor(x**4 - 46*x**3  +233*x**2 + 5656*x + 9996)"
      ],
      "execution_count": null,
      "outputs": [
        {
          "output_type": "execute_result",
          "data": {
            "text/plain": [
              "(x - 34)*(x - 21)*(x + 2)*(x + 7)"
            ]
          },
          "metadata": {
            "tags": []
          },
          "execution_count": 23
        }
      ]
    },
    {
      "cell_type": "markdown",
      "metadata": {
        "id": "xoq8A5ipMdRa"
      },
      "source": [
        "## SymPy’s solvers\n",
        "- https://docs.sympy.org/latest/tutorial/solvers.html\n",
        "- x\\*\\*5 - 15\\*x\\*\\*4  + 85\\*x\\*\\* 3 - 225\\*x\\*\\* 2 + 274\\*x - 120 = 0"
      ]
    },
    {
      "cell_type": "markdown",
      "metadata": {
        "id": "UpEjlqXZMk8i"
      },
      "source": [
        "<img src=\"https://raw.githubusercontent.com/gjhernandezp/algorithms/master/SymPyLab/sympylabwolfram5.jpg\" />"
      ]
    },
    {
      "cell_type": "code",
      "metadata": {
        "id": "DLzUsS8YMlNK",
        "outputId": "db5f1871-083d-41eb-cbc8-13903028fd9e",
        "colab": {
          "base_uri": "https://localhost:8080/",
          "height": 35
        }
      },
      "source": [
        "from sympy import *\n",
        "x = Symbol('x')\n",
        "solveset(Eq(x**5 - 15*x**4  + 85*x**3 - 225*x**2 + 274*x - 120, 0), x)\n"
      ],
      "execution_count": null,
      "outputs": [
        {
          "output_type": "execute_result",
          "data": {
            "text/plain": [
              "{1, 2, 3, 4, 5}"
            ]
          },
          "metadata": {
            "tags": []
          },
          "execution_count": 12
        }
      ]
    },
    {
      "cell_type": "markdown",
      "metadata": {
        "id": "JV6Mh8RsAzbq"
      },
      "source": [
        "Edición \n",
        "\n",
        "\n",
        "resolve(x^4 - e^x - pi = 0)\n",
        "\n",
        "Wolfram:\n",
        "\n",
        "<img src=\"https://github.com/dgarzona/AlgorithmsUN2020II/blob/master/SymPyLab/4..png?raw=true\"/>"
      ]
    },
    {
      "cell_type": "code",
      "metadata": {
        "id": "LchsedpfA6WC",
        "outputId": "e7369907-c24d-41a9-9dd0-ff714d0f90bc",
        "colab": {
          "base_uri": "https://localhost:8080/"
        }
      },
      "source": [
        "#edicion \n",
        "\n",
        "from sympy import *\n",
        "import numpy as np\n",
        "x = Symbol('x')\n",
        "solveset(Eq(x**4 -32*x**3 - np.pi , 0), x)"
      ],
      "execution_count": null,
      "outputs": [
        {
          "output_type": "execute_result",
          "data": {
            "text/plain": [
              "{-0.459132099076072, 32.0000958729375, 0.229518113069273 - 0.401431993025616*I, 0.229518113069273 + 0.401431993025616*I}"
            ]
          },
          "metadata": {
            "tags": []
          },
          "execution_count": 30
        }
      ]
    },
    {
      "cell_type": "markdown",
      "metadata": {
        "id": "OtsxSwPmV3Vs"
      },
      "source": [
        "## SymPy’s Symbolic and Numercical Complex Evaluations\n",
        "- https://docs.sympy.org/latest/modules/evalf.html](https://)\n",
        "- x = x1 + I*x2,y = y1 + I*y2, z = z1 + I*z2, x*y*z"
      ]
    },
    {
      "cell_type": "markdown",
      "metadata": {
        "id": "XxWt-AcaZxdp"
      },
      "source": [
        "<img src=\"https://raw.githubusercontent.com/gjhernandezp/algorithms/master/SymPyLab/sympylabwolfram7.jpg\" />"
      ]
    },
    {
      "cell_type": "code",
      "metadata": {
        "id": "ENDQbfLGV31r",
        "outputId": "5430a8de-95d1-428a-dec6-d9738c7d8632",
        "colab": {
          "base_uri": "https://localhost:8080/",
          "height": 124
        }
      },
      "source": [
        "from sympy import *\n",
        "x1, x2, y1, y2, z1, z2 = symbols(\"x1 x2 y1 y2 z1 z2\", real=True)  \n",
        "x = x1 + I*x2\n",
        "y = y1 + I*y2\n",
        "z = z1 + I*z2\n",
        "\n",
        "print(x*y*z)\n",
        "print(expand(x*y*z))\n",
        "print(expand((x*y)*z))\n",
        "print(expand(x*(y*z)))\n",
        "\n",
        "w=N(1/(pi + I), 20)\n",
        "print('w=',w)"
      ],
      "execution_count": null,
      "outputs": [
        {
          "output_type": "stream",
          "text": [
            "(x1 + I*x2)*(y1 + I*y2)*(z1 + I*z2)\n",
            "x1*y1*z1 + I*x1*y1*z2 + I*x1*y2*z1 - x1*y2*z2 + I*x2*y1*z1 - x2*y1*z2 - x2*y2*z1 - I*x2*y2*z2\n",
            "x1*y1*z1 + I*x1*y1*z2 + I*x1*y2*z1 - x1*y2*z2 + I*x2*y1*z1 - x2*y1*z2 - x2*y2*z1 - I*x2*y2*z2\n",
            "x1*y1*z1 + I*x1*y1*z2 + I*x1*y2*z1 - x1*y2*z2 + I*x2*y1*z1 - x2*y1*z2 - x2*y2*z1 - I*x2*y2*z2\n",
            "w= 0.28902548222223624241 - 0.091999668350375232456*I\n"
          ],
          "name": "stdout"
        }
      ]
    },
    {
      "cell_type": "markdown",
      "metadata": {
        "id": "c4445VMME5QP"
      },
      "source": [
        "Edición \n",
        "\n",
        "x = x1 + I*x2, y = y1 + I*y2, z = z1 + I*z2, a = a1 + I*a2, x*y*z/a\n",
        "\n",
        "Wolfram\n",
        "\n",
        "<img src=\"https://github.com/dgarzona/AlgorithmsUN2020II/blob/master/SymPyLab/5.png?raw=true\" />\n"
      ]
    },
    {
      "cell_type": "code",
      "metadata": {
        "id": "QdqP72MYHF__",
        "outputId": "592a2caa-f141-4215-a51a-092acb184822",
        "colab": {
          "base_uri": "https://localhost:8080/"
        }
      },
      "source": [
        "from sympy import *\n",
        "x1, x2, y1, y2, z1, z2, a1, a2 = symbols(\"x1 x2 y1 y2 z1 z2 a1 a2\", real=True)  \n",
        "x = x1 + I*x2\n",
        "y = y1 + I*y2\n",
        "z = z1 + I*z2\n",
        "a = a1 + I*a2\n",
        "\n",
        "print(x*y*(z/a))\n",
        "print(expand(x*y*(z/a)))\n",
        "print(expand((x*y)*(z/a)))\n",
        "print(expand((z/a)*x*y))\n",
        "\n",
        "\n",
        "wres =N(pi**2 - sin(2), 128)\n",
        "print('Wres=',wres)\n"
      ],
      "execution_count": null,
      "outputs": [
        {
          "output_type": "stream",
          "text": [
            "(x1 + I*x2)*(y1 + I*y2)*(z1 + I*z2)/(a1 + I*a2)\n",
            "x1*y1*z1/(a1 + I*a2) + I*x1*y1*z2/(a1 + I*a2) + I*x1*y2*z1/(a1 + I*a2) - x1*y2*z2/(a1 + I*a2) + I*x2*y1*z1/(a1 + I*a2) - x2*y1*z2/(a1 + I*a2) - x2*y2*z1/(a1 + I*a2) - I*x2*y2*z2/(a1 + I*a2)\n",
            "x1*y1*z1/(a1 + I*a2) + I*x1*y1*z2/(a1 + I*a2) + I*x1*y2*z1/(a1 + I*a2) - x1*y2*z2/(a1 + I*a2) + I*x2*y1*z1/(a1 + I*a2) - x2*y1*z2/(a1 + I*a2) - x2*y2*z1/(a1 + I*a2) - I*x2*y2*z2/(a1 + I*a2)\n",
            "x1*y1*z1/(a1 + I*a2) + I*x1*y1*z2/(a1 + I*a2) + I*x1*y2*z1/(a1 + I*a2) - x1*y2*z2/(a1 + I*a2) + I*x2*y1*z1/(a1 + I*a2) - x2*y1*z2/(a1 + I*a2) - x2*y2*z1/(a1 + I*a2) - I*x2*y2*z2/(a1 + I*a2)\n",
            "Wres= 8.9603069742636769234384711339644062926114444357929003580343763646890775208784216983816467147935928515140580170316236578164913950\n"
          ],
          "name": "stdout"
        }
      ]
    },
    {
      "cell_type": "markdown",
      "metadata": {
        "id": "34c6tlW4JXJX"
      },
      "source": [
        "## SymPy’s integrals\n",
        "- https://docs.sympy.org/latest/modules/integrals/integrals.html\n",
        "- [risk-engineering.org](https://risk-engineering.org/notebook/monte-carlo-LHS.html)"
      ]
    },
    {
      "cell_type": "markdown",
      "metadata": {
        "id": "Uz8j617GmnMZ"
      },
      "source": [
        "\n",
        "\n",
        "Let’s start with a simple integration problem in 1D,\n",
        "\n",
        "$$\\int_1^5 x^2 dx$$\n",
        " \n",
        "This is easy to solve analytically, and we can use the SymPy library in case you’ve forgotten how to resolve simple integrals."
      ]
    },
    {
      "cell_type": "code",
      "metadata": {
        "id": "8pLJWumKnJTT",
        "outputId": "32068d01-9f69-4021-a508-2a0ab4f99eb1",
        "colab": {
          "base_uri": "https://localhost:8080/",
          "height": 52
        }
      },
      "source": [
        "import sympy\n",
        "# we’ll save results using different methods in this data structure, called a dictionary\n",
        "result = {}  \n",
        "x = sympy.Symbol(\"x\")\n",
        "i = sympy.integrate(x**2)\n",
        "print(i)\n",
        "result[\"analytical\"] = float(i.subs(x, 5) - i.subs(x, 1))\n",
        "print(\"Analytical result: {}\".format(result[\"analytical\"]))"
      ],
      "execution_count": null,
      "outputs": [
        {
          "output_type": "stream",
          "text": [
            "x**3/3\n",
            "Analytical result: 41.333333333333336\n"
          ],
          "name": "stdout"
        }
      ]
    },
    {
      "cell_type": "markdown",
      "metadata": {
        "id": "vb3apPkmJ3IJ"
      },
      "source": [
        "Edición\n",
        "\n",
        "Inetgral: \n",
        "\n",
        "$$\\int_3^8 x^3 + 8 dx$$"
      ]
    },
    {
      "cell_type": "code",
      "metadata": {
        "id": "eHJ7aJThKE58",
        "outputId": "c499a33d-ca3b-4245-bab9-075991221554",
        "colab": {
          "base_uri": "https://localhost:8080/"
        }
      },
      "source": [
        "#Edicion\n",
        "\n",
        "import sympy\n",
        "resultado = {}  \n",
        "x = sympy.Symbol(\"x\")\n",
        "i = sympy.integrate(x**3 + 8)\n",
        "print(i)\n",
        "resultado[\"ant\"] = float(i.subs(x, 8) - i.subs(x, 3))\n",
        "print(\"Resiltado: {}\".format(resultado[\"ant\"]))"
      ],
      "execution_count": 18,
      "outputs": [
        {
          "output_type": "stream",
          "text": [
            "x**4/4 + 8*x\n",
            "Resiltado: 1043.75\n"
          ],
          "name": "stdout"
        }
      ]
    },
    {
      "cell_type": "markdown",
      "metadata": {
        "id": "_kDQHJrFnMah"
      },
      "source": [
        "**Integrating with Monte Carlo** \n",
        "[risk-engineering.org](https://risk-engineering.org/notebook/monte-carlo-LHS.html) \n",
        "\n",
        "We can estimate this integral using a standard Monte Carlo method, where we use the fact that the expectation of a random variable is related to its integral\n",
        "\n",
        "$$\\mathbb{E}(f(x)) = \\int_I f(x) dx $$\n",
        "\n",
        "We will sample a large number N of points in I and calculate their average, and multiply by the range over which we are integrating."
      ]
    },
    {
      "cell_type": "code",
      "metadata": {
        "id": "IAe87LwpFeXY",
        "outputId": "11f14724-6856-44a3-d5f8-37f1405c5e30",
        "colab": {
          "base_uri": "https://localhost:8080/",
          "height": 35
        }
      },
      "source": [
        "import numpy\n",
        "N = 1_000_000\n",
        "accum = 0\n",
        "for i in range(N):\n",
        "    x = numpy.random.uniform(1, 5)\n",
        "    accum += x**2\n",
        "volume = 5 - 1\n",
        "result[\"MC\"] = volume * accum / float(N)\n",
        "print(\"Standard Monte Carlo result: {}\".format(result[\"MC\"]))"
      ],
      "execution_count": null,
      "outputs": [
        {
          "output_type": "stream",
          "text": [
            "Standard Monte Carlo result: 41.32998559988266\n"
          ],
          "name": "stdout"
        }
      ]
    },
    {
      "cell_type": "markdown",
      "metadata": {
        "id": "hXLihAOJLrH0"
      },
      "source": [
        "Edición\n",
        "\n",
        "Estimamos la siguiente integral \n",
        "\n",
        "$$\\int_3^8 x^3 + 8 dx$$\n",
        "\n",
        "\n",
        "por Monte Carlo "
      ]
    },
    {
      "cell_type": "code",
      "metadata": {
        "id": "90I6ryFKL3p6",
        "outputId": "187c196e-64ba-4e95-b733-c33a5d342420",
        "colab": {
          "base_uri": "https://localhost:8080/"
        }
      },
      "source": [
        "import numpy \n",
        "N = 10_000_000\n",
        "temp = 0\n",
        "for i in range(N):\n",
        "    x = numpy.random.uniform(3, 8)\n",
        "    temp += x**3 + 8\n",
        "volume = 8 - 3\n",
        "resultado[\"MontCar\"] = volume * temp / float(N)\n",
        "print(\"Resultado por Monte Carlo: {}\".format(resultado[\"MontCar\"]))"
      ],
      "execution_count": null,
      "outputs": [
        {
          "output_type": "stream",
          "text": [
            "Resultado por Monte Carlo: 1043.9422026850486\n"
          ],
          "name": "stdout"
        }
      ]
    },
    {
      "cell_type": "markdown",
      "metadata": {
        "id": "Y-h16ObloBhp"
      },
      "source": [
        "- integrate(x\\*\\*2 * sin(x)\\*\\*3)\n",
        "\n",
        "<img src=\"https://raw.githubusercontent.com/gjhernandezp/algorithms/master/SymPyLab/sympylabwolfram8.jpg\" />"
      ]
    },
    {
      "cell_type": "code",
      "metadata": {
        "id": "tOPpWf2uoI1w",
        "outputId": "e486b2fc-c1d5-4a43-d0f8-f5a0ed6f3232",
        "colab": {
          "base_uri": "https://localhost:8080/"
        }
      },
      "source": [
        "import sympy\n",
        "x = Symbol(\"x\")\n",
        "i = integrate(x**2 * sin(x)**3)\n",
        "print(i)\n",
        "print(float(i.subs(x, 5) - i.subs(x, 1)))"
      ],
      "execution_count": null,
      "outputs": [
        {
          "output_type": "stream",
          "text": [
            "-x**2*sin(x)**2*cos(x) - 2*x**2*cos(x)**3/3 + 14*x*sin(x)**3/9 + 4*x*sin(x)*cos(x)**2/3 + 14*sin(x)**2*cos(x)/9 + 40*cos(x)**3/27\n",
            "-15.42978215330555\n"
          ],
          "name": "stdout"
        }
      ]
    },
    {
      "cell_type": "markdown",
      "metadata": {
        "id": "b7dyaxzOOzpN"
      },
      "source": [
        "Edición\n",
        "\n",
        "Inetgramos : sin(x) + (cos(x)^2)\n",
        "\n",
        "\n",
        "Wolfram: \n",
        "\n",
        "<img src=\"https://github.com/dgarzona/AlgorithmsUN2020II/blob/master/SymPyLab/6b.png?raw=true\" />"
      ]
    },
    {
      "cell_type": "code",
      "metadata": {
        "id": "DgZ5akg4Psp4",
        "outputId": "ecbf6cb4-b741-438c-e6a5-ee07736908b2",
        "colab": {
          "base_uri": "https://localhost:8080/"
        }
      },
      "source": [
        "#Edicion \n",
        "x = Symbol(\"x\")\n",
        "i = integrate(sin(x) + (cos(x)**2))\n",
        "print(i)\n",
        "print(float(i.subs(x, 8) - i.subs(x, 3)))\n"
      ],
      "execution_count": null,
      "outputs": [
        {
          "output_type": "stream",
          "text": [
            "x/2 + sin(x)*cos(x)/2 - cos(x)\n",
            "1.6533855825916333\n"
          ],
          "name": "stdout"
        }
      ]
    },
    {
      "cell_type": "code",
      "metadata": {
        "id": "4E6DQ8b0po0I",
        "outputId": "58a6d7d9-0be0-476c-a073-7e9d7e085fd9",
        "colab": {
          "base_uri": "https://localhost:8080/",
          "height": 35
        }
      },
      "source": [
        "import numpy\n",
        "N = 100_000\n",
        "accum = 0\n",
        "l =[]\n",
        "for i in range(N):\n",
        "    x = numpy.random.uniform(1, 5)\n",
        "    accum += x**2 * sin(x)**3\n",
        "volume = 5 - 1\n",
        "result[\"MC\"] = volume * accum / float(N)\n",
        "print(\"Standard Monte Carlo result: {}\".format(result[\"MC\"]))"
      ],
      "execution_count": null,
      "outputs": [
        {
          "output_type": "stream",
          "text": [
            "Standard Monte Carlo result: -15.3350781160391\n"
          ],
          "name": "stdout"
        }
      ]
    },
    {
      "cell_type": "code",
      "metadata": {
        "id": "j_vJ-7YPie0k",
        "outputId": "14fb6e95-3954-4f4b-8532-50dcb20038cc",
        "colab": {
          "base_uri": "https://localhost:8080/"
        }
      },
      "source": [
        "#Edicion \n",
        "\n",
        "import numpy \n",
        "N = 1_000_000\n",
        "temp = 0\n",
        "for i in range(N):\n",
        "    x = numpy.random.uniform(3, 8)\n",
        "    temp += numpy.sin(x) + (numpy.cos(x))**2\n",
        "volume = 8 - 3\n",
        "resultado[\"MontCar2\"] = volume * temp / float(N)\n",
        "print(\"Resultado por Monte Carlo: {}\".format(resultado[\"MontCar2\"]))"
      ],
      "execution_count": null,
      "outputs": [
        {
          "output_type": "stream",
          "text": [
            "Resultado por Monte Carlo: 1.644611681543184\n"
          ],
          "name": "stdout"
        }
      ]
    },
    {
      "cell_type": "markdown",
      "metadata": {
        "id": "l362l5XHoILR"
      },
      "source": [
        "**A higher dimensional integral** [risk-engineering.org](https://risk-engineering.org/notebook/monte-carlo-LHS.html) \n",
        "\n",
        "\n",
        "Let us now analyze an integration problem in dimension 4, the Ishigami function. This is a well-known function in numerical optimization and stochastic analysis, because it is very highly non-linear."
      ]
    },
    {
      "cell_type": "code",
      "metadata": {
        "id": "krm2hdVoY8Tm",
        "outputId": "278c8b19-c526-482f-c70c-e09942ef3570",
        "colab": {
          "base_uri": "https://localhost:8080/",
          "height": 34
        }
      },
      "source": [
        "import sympy\n",
        "\n",
        "x1 = sympy.Symbol(\"x1\")\n",
        "x2 = sympy.Symbol(\"x2\")\n",
        "x3 = sympy.Symbol(\"x3\")\n",
        "expr = sympy.sin(x1) + 7*sympy.sin(x2)**2 + 0.1 * x3**4 * sympy.sin(x1)\n",
        "res = sympy.integrate(expr,\n",
        "                      (x1, -sympy.pi, sympy.pi),\n",
        "                      (x2, -sympy.pi, sympy.pi),\n",
        "                      (x3, -sympy.pi, sympy.pi))\n",
        "# Note: we use float(res) to convert res from symbolic form to floating point form\n",
        "result = {} \n",
        "result[\"analytical\"] = float(res)\n",
        "print(\"Analytical result: {}\".format(result[\"analytical\"]))"
      ],
      "execution_count": null,
      "outputs": [
        {
          "output_type": "stream",
          "text": [
            "Analytical result: 868.175747048395\n"
          ],
          "name": "stdout"
        }
      ]
    },
    {
      "cell_type": "code",
      "metadata": {
        "id": "hM29fi443B59",
        "outputId": "634c885f-25eb-472c-c774-56b156917905",
        "colab": {
          "base_uri": "https://localhost:8080/"
        }
      },
      "source": [
        "#Edicion \n",
        "\n",
        "import sympy \n",
        "\n",
        "x = sympy.Symbol(\"x\") \n",
        "y = sympy.Symbol(\"y\") \n",
        "z = sympy.Symbol(\"z\")\n",
        "expr = sympy.sin(x) + 8*sympy.sin(y)**2 + 0.34 * z**4 * sympy.sin(x) \n",
        "res = sympy.integrate(expr,\n",
        "                      (x, -sympy.pi, sympy.pi),\n",
        "                      (y, -sympy.pi, sympy.pi),\n",
        "                      (z, -sympy.pi, sympy.pi))\n",
        "\n",
        "resultados = {} \n",
        "resultados[\"analytical\"] = float(res)\n",
        "print(\"Analytical result: {}\".format(resultados[\"analytical\"]))\n"
      ],
      "execution_count": null,
      "outputs": [
        {
          "output_type": "stream",
          "text": [
            "Analytical result: 992.2008537695942\n"
          ],
          "name": "stdout"
        }
      ]
    },
    {
      "cell_type": "code",
      "metadata": {
        "id": "GWraXqA0a0I1",
        "outputId": "83717f91-bc65-4666-f98d-43b402cdffe6",
        "colab": {
          "base_uri": "https://localhost:8080/",
          "height": 35
        }
      },
      "source": [
        "N = 10_000\n",
        "accum = 0\n",
        "for i in range(N):\n",
        "    xx1 = numpy.random.uniform(-numpy.pi, numpy.pi)\n",
        "    xx2 = numpy.random.uniform(-numpy.pi, numpy.pi)\n",
        "    xx3 = numpy.random.uniform(-numpy.pi, numpy.pi)\n",
        "    accum += numpy.sin(xx1) + 7*numpy.sin(xx2)**2 + 0.1 * xx3**4 * numpy.sin(xx1)\n",
        "volume = (2 * numpy.pi)**3\n",
        "result = {} \n",
        "result[\"MC\"] = volume * accum / float(N)\n",
        "print(\"Standard Monte Carlo result: {}\".format(result[\"MC\"]))"
      ],
      "execution_count": null,
      "outputs": [
        {
          "output_type": "stream",
          "text": [
            "Standard Monte Carlo result: 860.6796782529639\n"
          ],
          "name": "stdout"
        }
      ]
    },
    {
      "cell_type": "code",
      "metadata": {
        "id": "TfKjBY2Hj4yd",
        "outputId": "057d1e9f-53e3-4ed2-d4b0-0df7376bf2d4",
        "colab": {
          "base_uri": "https://localhost:8080/"
        }
      },
      "source": [
        "#Edicion \n",
        "\n",
        "import numpy \n",
        "N = 100_000\n",
        "temp = 0\n",
        "for i in range(N):\n",
        "  xx = numpy.random.uniform(-numpy.pi, numpy.pi)\n",
        "  yy = numpy.random.uniform(-numpy.pi, numpy.pi)\n",
        "  zz = numpy.random.uniform(-numpy.pi, numpy.pi)\n",
        "  temp += np.sin(xx) + 8*np.sin(yy)**2 + 0.34 * zz**4 * np.sin(xx)\n",
        "\n",
        "volumen = (2 * numpy.pi)**3\n",
        "resultados[\"MonteCarlo\"] = volumen * temp / float(N)\n",
        "print(\"Resultado Usando Montecarlo: {}\".format(resultados[\"MonteCarlo\"]))\n"
      ],
      "execution_count": null,
      "outputs": [
        {
          "output_type": "stream",
          "text": [
            "Resultado Usando Montecarlo: 983.0796811421585\n"
          ],
          "name": "stdout"
        }
      ]
    },
    {
      "cell_type": "code",
      "metadata": {
        "id": "GEVLchJtbgdN"
      },
      "source": [
        "import math\n",
        "import numpy\n",
        "# adapted from https://mail.scipy.org/pipermail/scipy-user/2013-June/034744.html\n",
        "def halton(dim: int, nbpts: int):\n",
        "    h = numpy.full(nbpts * dim, numpy.nan)\n",
        "    p = numpy.full(nbpts, numpy.nan)\n",
        "    P = [2, 3, 5, 7, 11, 13, 17, 19, 23, 29, 31]\n",
        "    lognbpts = math.log(nbpts + 1)\n",
        "    for i in range(dim):\n",
        "        b = P[i]\n",
        "        n = int(math.ceil(lognbpts / math.log(b)))\n",
        "        for t in range(n):\n",
        "            p[t] = pow(b, -(t + 1))\n",
        "\n",
        "        for j in range(nbpts):\n",
        "            d = j + 1\n",
        "            sum_ = math.fmod(d, b) * p[0]\n",
        "            for t in range(1, n):\n",
        "                d = math.floor(d / b)\n",
        "                sum_ += math.fmod(d, b) * p[t]\n",
        "\n",
        "            h[j*dim + i] = sum_\n",
        "    return h.reshape(nbpts, dim)"
      ],
      "execution_count": null,
      "outputs": []
    },
    {
      "cell_type": "code",
      "metadata": {
        "id": "icR0xmtacj7h",
        "outputId": "73dc533c-a47f-4cdf-bf9f-d8d986fb350d",
        "colab": {
          "base_uri": "https://localhost:8080/",
          "height": 336
        }
      },
      "source": [
        "import matplotlib.pyplot as plt\n",
        "N = 1000\n",
        "seq = halton(2, N)\n",
        "plt.title(\"2D Halton sequence\")\n",
        "# Note: we use \"alpha=0.5\" in the scatterplot so that the plotted points are semi-transparent\n",
        "# (alpha-transparency of 0.5 out of 1), so that we can see when any points are superimposed.\n",
        "plt.axes().set_aspect('equal')\n",
        "plt.scatter(seq[:,0], seq[:,1], marker=\".\", alpha=0.5);"
      ],
      "execution_count": null,
      "outputs": [
        {
          "output_type": "stream",
          "text": [
            "/usr/local/lib/python3.6/dist-packages/ipykernel_launcher.py:7: MatplotlibDeprecationWarning: Adding an axes using the same arguments as a previous axes currently reuses the earlier instance.  In a future version, a new instance will always be created and returned.  Meanwhile, this warning can be suppressed, and the future behavior ensured, by passing a unique label to each axes instance.\n",
            "  import sys\n"
          ],
          "name": "stderr"
        },
        {
          "output_type": "display_data",
          "data": {
            "image/png": "[encoded data removed]",
            "text/plain": [
              "<Figure size 432x288 with 1 Axes>"
            ]
          },
          "metadata": {
            "tags": [],
            "needs_background": "light"
          }
        }
      ]
    },
    {
      "cell_type": "code",
      "metadata": {
        "id": "dWMDF7GbT3CT"
      },
      "source": [
        "#Edicion\n",
        "import numpy\n",
        "import math \n",
        "\n",
        "def halton2(dimencion: int, nbpts: int):\n",
        "    h = numpy.full(nbpts * dimencion, numpy.nan)\n",
        "    p = numpy.full(nbpts, numpy.nan)\n",
        "    P = [2, 3, 5, 7, 11, 13, 17, 19, 23, 29, 31, 37, 41, 43, 47]\n",
        "    lognbpts = math.log(nbpts + 1)\n",
        "    for i in range(dimencion):\n",
        "        b = P[i]\n",
        "        n = int(math.ceil(lognbpts / math.log(b)))\n",
        "        for t in range(n):\n",
        "            p[t] = b**(-(t + 1))\n",
        "\n",
        "        for j in range(nbpts):\n",
        "            d = j + 1\n",
        "            sum_ = math.fmod(d, b) * p[0]\n",
        "            for t in range(1, n):\n",
        "                d = math.floor(d / b)\n",
        "                sum_ += math.fmod(d, b) * p[t]\n",
        "\n",
        "            h[j*dimencion + i] = sum_\n",
        "    return h.reshape(nbpts, dimencion)\n"
      ],
      "execution_count": 6,
      "outputs": []
    },
    {
      "cell_type": "code",
      "metadata": {
        "id": "ULXrdLJsXCYw",
        "outputId": "083f278f-db66-4aa3-c07e-33be73f39040",
        "colab": {
          "base_uri": "https://localhost:8080/",
          "height": 336
        }
      },
      "source": [
        "#Edicion \n",
        "\n",
        "import matplotlib.pyplot as plt\n",
        "N = 1000\n",
        "seq = halton2(2, N)\n",
        "plt.title(\"Secuencia de Halton\")\n",
        "plt.axes().set_aspect('equal')\n",
        "plt.scatter(seq[:,0], seq[:,1], marker=\".\", alpha=0.5, color=\"green\");"
      ],
      "execution_count": 13,
      "outputs": [
        {
          "output_type": "stream",
          "text": [
            "/usr/local/lib/python3.6/dist-packages/ipykernel_launcher.py:7: MatplotlibDeprecationWarning: Adding an axes using the same arguments as a previous axes currently reuses the earlier instance.  In a future version, a new instance will always be created and returned.  Meanwhile, this warning can be suppressed, and the future behavior ensured, by passing a unique label to each axes instance.\n",
            "  import sys\n"
          ],
          "name": "stderr"
        },
        {
          "output_type": "display_data",
          "data": {
            "image/png": "[encoded data removed]",
            "text/plain": [
              "<Figure size 432x288 with 1 Axes>"
            ]
          },
          "metadata": {
            "tags": [],
            "needs_background": "light"
          }
        }
      ]
    },
    {
      "cell_type": "code",
      "metadata": {
        "id": "OPhHs-WqbMmk",
        "outputId": "3ddf3d1c-fde5-4974-e50d-228c85be1a82",
        "colab": {
          "base_uri": "https://localhost:8080/",
          "height": 35
        }
      },
      "source": [
        "N = 10_000\n",
        "\n",
        "seq = halton(3, N)\n",
        "accum = 0\n",
        "for i in range(N):\n",
        "    xx1 = -numpy.pi + seq[i][0] * numpy.pi * 2\n",
        "    xx2 = -numpy.pi + seq[i][1] * numpy.pi * 2\n",
        "    xx3 = -numpy.pi + seq[i][2] * numpy.pi * 2\n",
        "    accum += numpy.sin(xx1) + 7*numpy.sin(xx2)**2 + 0.1 * xx3**4 * numpy.sin(xx1)\n",
        "volume = (2 * numpy.pi)**3\n",
        "result = {} \n",
        "result[\"MC\"] = volume * accum / float(N)\n",
        "print(\"Qausi Monte Carlo Halton Sequence result: {}\".format(result[\"MC\"]))"
      ],
      "execution_count": null,
      "outputs": [
        {
          "output_type": "stream",
          "text": [
            "Qausi Monte Carlo Halton Sequence result: 868.238928030592\n"
          ],
          "name": "stdout"
        }
      ]
    },
    {
      "cell_type": "code",
      "metadata": {
        "id": "5qvRwb2vYpht",
        "outputId": "c5772daa-156e-4806-e499-85ee324b4952",
        "colab": {
          "base_uri": "https://localhost:8080/"
        }
      },
      "source": [
        "#Edicion \n",
        "\n",
        "import numpy as np\n",
        "N = 100_000\n",
        "temp = 0\n",
        "seq2 = halton2(3,N)\n",
        "for i in range(N):\n",
        "  xx = -numpy.pi + seq2[i][0] * numpy.pi * 2\n",
        "  yy = -numpy.pi + seq2[i][1] * numpy.pi * 2\n",
        "  zz = -numpy.pi + seq2[i][2] * numpy.pi * 2\n",
        "  temp += np.sin(xx) + 8*np.sin(yy)**2 + 0.34 * zz**4 * np.sin(xx)\n",
        "\n",
        "resultados ={}\n",
        "volumen = (2 * numpy.pi)**3\n",
        "resultados[\"MonteCarlo\"] = volumen * temp / float(N)\n",
        "print(\"Resultado Usando Montecarlo: {}\".format(resultados[\"MonteCarlo\"]))"
      ],
      "execution_count": 19,
      "outputs": [
        {
          "output_type": "stream",
          "text": [
            "Resultado Usando Montecarlo: 992.1898731825128\n"
          ],
          "name": "stdout"
        }
      ]
    },
    {
      "cell_type": "markdown",
      "metadata": {
        "id": "owlyYqd27Cje"
      },
      "source": [
        "Como punto adicional, vamos a hacer algunas integrales dobles y triples (no se anexan fotos de Wolfram debido a tiene problemas para resolver este tipo de integrales)\n",
        "\n",
        "\n",
        "- $$\\int_2^5 \\int_3^6 x^2 + sin^2(y) dx dy$$\n",
        "\n",
        "- $$\\int_3^5 \\int_6^7 ln(x) + cos(y) dx dy$$\n",
        "\n",
        "- $$\\int_1^5 \\int_1^2 \\int_2^3 e^x + ln(y) - cos(z) dx dy dz $$\n"
      ]
    },
    {
      "cell_type": "code",
      "metadata": {
        "id": "NAVRqPr27BsB",
        "outputId": "c5cb878a-050e-446e-9a22-42d71747af3f",
        "colab": {
          "base_uri": "https://localhost:8080/"
        }
      },
      "source": [
        "#Edicion \n",
        "\n",
        "import sympy\n",
        "\n",
        "x = sympy.Symbol(\"x\")\n",
        "y = sympy.Symbol(\"y\")\n",
        "expr = x**2 + sin(y)**2\n",
        "res = sympy.integrate(expr,\n",
        "                      (x, 2, 5),\n",
        "                      (y, 3, 6))\n",
        "result = {} \n",
        "result[\"analytical\"] = float(res)\n",
        "print(\"Analytical result: {}\".format(result[\"analytical\"]))"
      ],
      "execution_count": 22,
      "outputs": [
        {
          "output_type": "stream",
          "text": [
            "Analytical result: 121.69286806485113\n"
          ],
          "name": "stdout"
        }
      ]
    },
    {
      "cell_type": "code",
      "metadata": {
        "id": "UauewORf85_k",
        "outputId": "b6ad8688-4636-4d92-e4f0-7ac022e2936f",
        "colab": {
          "base_uri": "https://localhost:8080/"
        }
      },
      "source": [
        "#Edicion \n",
        "\n",
        "import sympy\n",
        "\n",
        "x = sympy.Symbol(\"x\")\n",
        "y = sympy.Symbol(\"y\")\n",
        "expr = ln(x) + cos(x)\n",
        "res = sympy.integrate(expr,\n",
        "                      (x, 3, 5),\n",
        "                      (y, 6, 7))\n",
        "result = {} \n",
        "result[\"analytical\"] = float(res)\n",
        "print(\"Analytical result: {}\".format(result[\"analytical\"]))"
      ],
      "execution_count": 23,
      "outputs": [
        {
          "output_type": "stream",
          "text": [
            "Analytical result: 1.651308413443167\n"
          ],
          "name": "stdout"
        }
      ]
    },
    {
      "cell_type": "code",
      "metadata": {
        "id": "A_t8LkCY9y9n",
        "outputId": "51203a19-f33e-476c-94ae-369b416aa4cb",
        "colab": {
          "base_uri": "https://localhost:8080/"
        }
      },
      "source": [
        "#Edicion \n",
        "import math\n",
        "x = sympy.Symbol(\"x\")\n",
        "y = sympy.Symbol(\"y\")\n",
        "z = sympy.Symbol(\"z\")\n",
        "expr = math.e**x + ln(y) - cos(z)\n",
        "res = sympy.integrate(expr,\n",
        "                      (x, 1, 5),\n",
        "                      (y, 1, 2),\n",
        "                      (z, 2, 3))\n",
        "\n",
        "result = {} \n",
        "result[\"analytical\"] = float(res)\n",
        "print(\"Analytical result: {}\".format(result[\"analytical\"]))"
      ],
      "execution_count": 25,
      "outputs": [
        {
          "output_type": "stream",
          "text": [
            "Analytical result: 150.31276439366033\n"
          ],
          "name": "stdout"
        }
      ]
    },
    {
      "cell_type": "markdown",
      "metadata": {
        "id": "eaqIgmnkPNVT"
      },
      "source": [
        "## Wolfram alpha answers quastion in natural languaje\n",
        "- What is the average temperature in Bogota in September?\n",
        "\n",
        "<img src=\"https://raw.githubusercontent.com/gjhernandezp/algorithms/master/SymPyLab/sympylabwolfram6.jpg\" />"
      ]
    },
    {
      "cell_type": "markdown",
      "metadata": {
        "id": "BBayJiHj0y4S"
      },
      "source": [
        "\n",
        "Edición\n",
        "\n",
        "<img src=\"https://raw.githubusercontent.com/dgarzona/AlgorithmsUN2020II/master/SymPyLab/7.png\">"
      ]
    }
  ]
}