{
  "nbformat": 4,
  "nbformat_minor": 0,
  "metadata": {
    "colab": {
      "name": "LAB 4.ipynb",
      "provenance": [],
      "collapsed_sections": []
    },
    "kernelspec": {
      "name": "python3",
      "display_name": "Python 3"
    }
  },
  "cells": [
    {
      "cell_type": "markdown",
      "metadata": {
        "id": "7j0U0FqTOfod"
      },
      "source": [
        "# Punto 1 \n",
        "\n",
        "En este punto se aceleró la ejecucion del codigo usando Numba como compilador jit. \n"
      ]
    },
    {
      "cell_type": "code",
      "metadata": {
        "id": "6yCDOq1c94kY",
        "outputId": "a2c869c6-59d3-46b6-d3f2-45da0f052288",
        "colab": {
          "base_uri": "https://localhost:8080/",
          "height": 350
        }
      },
      "source": [
        "from time import time as tm\n",
        "from numba import jit\n",
        "import numpy as np\n",
        "import matplotlib.mlab as mlab\n",
        "import matplotlib.pyplot\n",
        "import time     \n",
        "#Esto es como un codigo en C pero hecho en python, esto para poder ser compilado con Numba (que es un JIT compiler para python)\n",
        "#Con Numba este codigo corre 10.000.000 de simulaciones en solo 24 - 25 segundos\n",
        "\n",
        "#baraja española\n",
        "cartas1 = [1,2,3,4,5,6,7,8,9,10,11,12,1,2,3,4,5,6,7,8,9,10,11,12,1,2,3,4,5,6,7,8,9,10,11,12,1,2,3,4,5,6,7,8,9,10,11,12] \n",
        "\n",
        "#baraja de poker \n",
        "cartas2 = [1,2,3,4,5,6,7,8,9,10,11,12,13,1,2,3,4,5,6,7,8,9,10,11,12,13,1,2,3,4,5,6,7,8,9,10,11,12,13,1,2,3,4,5,6,7,8,9,10,11,12,13]\n",
        "\n",
        "cartas1.sort()\n",
        "cartas2.sort()\n",
        "cartas1NumPy = np.array(cartas1)\n",
        "cartas2NumPy = np.array(cartas2)\n",
        "\n",
        "@jit(nopython=True)\n",
        "def veintiunaNumPy(cartasNP):\n",
        "  cont = 1\n",
        "  temp = cartasNP \n",
        "  carta = np.random.choice(cartasNP)\n",
        "  for i in range(0,len(temp) - 1): \n",
        "      if carta == temp[i]:\n",
        "        temp = np.delete(temp, i)\n",
        "        break \n",
        "  while carta < 21: \n",
        "    cont += 1 \n",
        "    carta2 = np.random.choice(temp)\n",
        "    carta = carta + carta2 \n",
        "    for i in range(0,len(temp) - 1): \n",
        "      if carta2 == temp[i]:\n",
        "        temp = np.delete(temp, i)\n",
        "        break \n",
        "  if carta == 21: \n",
        "    return np.array([0, cont])\n",
        "  else:\n",
        "    return np.array([1, cont])\n",
        "\n",
        "#si funciona, dejalo quieto. \n",
        "@jit(nopython=True)\n",
        "def probabilidadNP(cartas,ciclos): \n",
        "  baraja = len(cartas)\n",
        "  cont = 0 \n",
        "  index = 0\n",
        "  lista_res = np.zeros(ciclos)\n",
        "  for i in range(0,ciclos):\n",
        "    res = veintiunaNumPy(cartas)\n",
        "    if (res[0] == 0):\n",
        "      if (index < 9999): \n",
        "        lista_res[index] = res[1]\n",
        "        index += 1\n",
        "        cont += 1\n",
        "      else: \n",
        "        cont += 1\n",
        "  if baraja == 52:\n",
        "    print(\"La probabilidad de sacar 21 con la baraja de Poker: \", (cont/ciclos))\n",
        "  elif baraja == 48: \n",
        "    print(\"La probabilidad de sacar 21 con la baraja Española: \", (cont/ciclos))\n",
        "\n",
        "  return lista_res[lista_res != 0]\n",
        "\n",
        "#Numero de Bucles usados = 10.000.000 \n",
        "\n",
        "start_time = tm()\n",
        "\n",
        "bucles = 10000000\n",
        "cartas_21_baraja_Spanish = probabilidadNP(cartas1NumPy,bucles) \n",
        "cartas_21_baraja_Poker = probabilidadNP(cartas2NumPy,bucles) \n",
        "\n",
        "fig, axs = matplotlib.pyplot.subplots(1, 2);\n",
        "axs[0].hist(cartas_21_baraja_Spanish,);\n",
        "axs[1].hist(cartas_21_baraja_Poker);\n",
        "\n",
        "\n",
        "elapsed_time = tm() - start_time\n",
        "print(\"Tiempo de ejecución: \", elapsed_time , \"segundos para: \", bucles, \" iteraciones.\")\n",
        "print(\"distribucion cartas: \")\n",
        "print(\"     baraja española        baraja de poker\")\n",
        "\n",
        "\n"
      ],
      "execution_count": 1,
      "outputs": [
        {
          "output_type": "stream",
          "text": [
            "La probabilidad de sacar 21 con la baraja Española:  0.1577773\n",
            "La probabilidad de sacar 21 con la baraja de Poker:  0.14475\n",
            "Tiempo de ejecución:  25.24070978164673 segundos para:  10000000  iteraciones.\n",
            "distribucion cartas: \n",
            "     baraja española        baraja de poker\n"
          ],
          "name": "stdout"
        },
        {
          "output_type": "display_data",
          "data": {
            "image/png": "[encoded data removed]",
            "text/plain": [
              "<Figure size 432x288 with 2 Axes>"
            ]
          },
          "metadata": {
            "tags": [],
            "needs_background": "light"
          }
        }
      ]
    },
    {
      "cell_type": "markdown",
      "metadata": {
        "id": "P5tQlAkHvzYE"
      },
      "source": [
        "#Punto 2"
      ]
    },
    {
      "cell_type": "code",
      "metadata": {
        "id": "5BSyel6n3dak",
        "outputId": "e15d1c7e-b3a3-4173-eda6-9e06018020c6",
        "colab": {
          "base_uri": "https://localhost:8080/",
          "height": 582
        }
      },
      "source": [
        "import random\n",
        "import numpy as np\n",
        "import matplotlib.pyplot \n",
        "deck_0 = [1,2,3,4,5,6,7,8,9,10,10,10,1,2,3,4,5,6,7,8,9,10,10,10,1,2,3,4,5,6,7,8,9,10,10,10,1,2,3,4,5,6,7,8,9,10,10,10]\n",
        "deck_1 = [1,2,3,4,5,6,7,8,9,10,10,10,10,1,2,3,4,5,6,7,8,9,10,10,10,10,1,2,3,4,5,6,7,8,9,10,10,10,10,1,2,3,4,5,6,7,8,9,10,10,10,10]\n",
        "def prob(deck):\n",
        "  setN = np.array([]);\n",
        "  for _ in range(10000): \n",
        "    auxDeck = deck.copy();\n",
        "    nCards = 0;\n",
        "    sum = 0;\n",
        "    while sum < 21:\n",
        "      nCard = random.randint(0, len(auxDeck)-1) ;\n",
        "      sum +=  auxDeck[nCard];\n",
        "      del auxDeck[nCard]\n",
        "      nCards+=1;\n",
        "    if sum == 21:\n",
        "      setN = np.append(setN,[nCards])\n",
        "  print(\"Probabilidad 21: \", len(setN)/10000, \"Avg cartas: \", np.average(setN))\n",
        "  matplotlib.pyplot.hist(setN, density = True, bins=int(max(setN) - min(setN)))\n",
        "  matplotlib.pyplot.show()\n",
        "print(\"Spanish 48-deck\")\n",
        "prob(deck_0)\n",
        "print(\"Spanish and Poker card decks\")\n",
        "prob(deck_1)"
      ],
      "execution_count": null,
      "outputs": [
        {
          "output_type": "stream",
          "text": [
            "Spanish 48-deck\n",
            "Probabilidad 21:  0.1488 Avg cartas:  3.6821236559139785\n"
          ],
          "name": "stdout"
        },
        {
          "output_type": "display_data",
          "data": {
            "image/png": "[encoded data removed]",
            "text/plain": [
              "<Figure size 432x288 with 1 Axes>"
            ]
          },
          "metadata": {
            "tags": [],
            "needs_background": "light"
          }
        },
        {
          "output_type": "stream",
          "text": [
            "Spanish and Poker card decks\n",
            "Probabilidad 21:  0.1333 Avg cartas:  3.609152288072018\n"
          ],
          "name": "stdout"
        },
        {
          "output_type": "display_data",
          "data": {
            "image/png": "[encoded data removed]",
            "text/plain": [
              "<Figure size 432x288 with 1 Axes>"
            ]
          },
          "metadata": {
            "tags": [],
            "needs_background": "light"
          }
        }
      ]
    },
    {
      "cell_type": "markdown",
      "metadata": {
        "id": "MCcjkoz23uVE"
      },
      "source": [
        "# Punto 3"
      ]
    },
    {
      "cell_type": "code",
      "metadata": {
        "id": "FZL6-cJ73ywn",
        "outputId": "0dc9467b-422f-423e-fc21-45fe18c8f310",
        "colab": {
          "base_uri": "https://localhost:8080/",
          "height": 598
        }
      },
      "source": [
        "import random\n",
        "import matplotlib.pyplot as plt\n",
        "    # a las barajas les quite un 5 y dos sietes  a cada una  ya que segun el punto 3(sig-linea)\n",
        "    #solo se permiten maximo dos sietes y tres cincos \n",
        "\n",
        "ANCSpanish=0; \n",
        "ANCPoker=0\n",
        "countSpanish=0\n",
        "countPoker=0 \n",
        "nc21Spanish=[]\n",
        "nc21Poker=[]\n",
        "n = int(input(\"¿Cuantas pruebas quiere hacer?: \"))\n",
        "print(\"proabilidadesdespues de la mitad del juego :\")\n",
        "for t in range (n):\n",
        "    spanishDeck=[1,2,3,4,6,10,11,11,1,2,3,4,5,6,8,9,10,11,12,1,2,3,4,5,6,7,8,9,10,11,12,1,2,3,4,5,6,7,8,9,10,11,12]        \n",
        "    pokerDeck=[1,2,3,4,6,8,9,10,11,12,13,1,2,3,4,5,6,8,9,10,11,12,13,1,2,3,4,5,6,7,8,9,10,11,12,13,1,2,3,4,5,6,7,8,9,10,11,12,13]\n",
        "\n",
        "    poker_halfDeck=[]\n",
        "    spanish_halfDeck=[]\n",
        "\n",
        "    cardsSpanish=[7,7,5] # la simulacion empieza desde la mitad del juego y cuando el jugador ya tiene las cartas 7,7,5 en la mano (tiene 3 caratas)\n",
        "    cardsPoker=[7,7,5] \n",
        "\n",
        "    numberOfCardsPoker=3\n",
        "    numberOfCardsSpanish=3\n",
        "\n",
        "\n",
        "    for i in range (len(pokerDeck)//2):    \n",
        "        a=random.choice(pokerDeck)\n",
        "        poker_halfDeck.append(a)\n",
        "        pokerDeck.remove(a)\n",
        "        \n",
        "\n",
        "    for i in range (len(spanishDeck)//2):    \n",
        "        a=random.choice(spanishDeck)\n",
        "        spanish_halfDeck.append(a)\n",
        "        spanishDeck.remove(a)\n",
        "\n",
        "    while sum(cardsSpanish)<21 :\n",
        "        b=random.choice(spanish_halfDeck)\n",
        "        cardsSpanish.append(b)\n",
        "        spanish_halfDeck.remove(b)\n",
        "        numberOfCardsSpanish+=1\n",
        "    \n",
        "    while sum(cardsPoker)<21 :\n",
        "        b=random.choice(poker_halfDeck)\n",
        "        cardsPoker.append(b)\n",
        "        poker_halfDeck.remove(b)\n",
        "        numberOfCardsPoker+=1\n",
        "\n",
        "    if sum(cardsSpanish)==21 :\n",
        "      countSpanish+=1\n",
        "      ANCSpanish=ANCSpanish+numberOfCardsSpanish\n",
        "      nc21Spanish.append(numberOfCardsSpanish)\n",
        "    \n",
        "    if sum(cardsPoker)==21 :\n",
        "      countPoker+=1\n",
        "      ANCPoker=ANCPoker+numberOfCardsPoker\n",
        "      nc21Poker.append(numberOfCardsPoker)\n",
        "\n",
        "print(\"probabilidad de que salga 21 (Spanish): \",countSpanish/n,\" numero promedio de cartas(Spanish): \",ANCSpanish/countSpanish)\n",
        "plt.hist(nc21Spanish,density=True,bins=2)\n",
        "plt.show()\n",
        "max(nc21Spanish)-min(nc21Spanish)\n",
        "\n",
        "print(\"probabilidad de que salga 21 (Poker): \",countPoker/n,\" numero promedio de cartas(Poker): \",ANCPoker/countPoker)\n",
        "plt.hist(nc21Poker,density=True,bins=2)\n",
        "plt.show()\n",
        "max(nc21Poker)-min(nc21Poker)\n",
        "\n"
      ],
      "execution_count": null,
      "outputs": [
        {
          "output_type": "stream",
          "text": [
            "¿Cuantas pruebas quiere hacer?: 10000\n",
            "proabilidadesdespues de la mitad del juego :\n",
            "probabilidad de que salga 21 (Spanish):  0.0967  numero promedio de cartas(Spanish):  4.066184074457084\n"
          ],
          "name": "stdout"
        },
        {
          "output_type": "display_data",
          "data": {
            "image/png": "[encoded data removed]",
            "text/plain": [
              "<Figure size 432x288 with 1 Axes>"
            ]
          },
          "metadata": {
            "tags": [],
            "needs_background": "light"
          }
        },
        {
          "output_type": "stream",
          "text": [
            "probabilidad de que salga 21 (Poker):  0.0842  numero promedio de cartas(Poker):  4.066508313539193\n"
          ],
          "name": "stdout"
        },
        {
          "output_type": "display_data",
          "data": {
            "image/png": "[encoded data removed]",
            "text/plain": [
              "<Figure size 432x288 with 1 Axes>"
            ]
          },
          "metadata": {
            "tags": [],
            "needs_background": "light"
          }
        },
        {
          "output_type": "execute_result",
          "data": {
            "text/plain": [
              "1"
            ]
          },
          "metadata": {
            "tags": []
          },
          "execution_count": 19
        }
      ]
    },
    {
      "cell_type": "markdown",
      "metadata": {
        "id": "zdGiuE6bO6qf"
      },
      "source": [
        "# Punto 4\n"
      ]
    },
    {
      "cell_type": "markdown",
      "metadata": {
        "id": "LMlfdK-2hC4h"
      },
      "source": [
        "* calculo de forma analitica Hot Deck:\n",
        "\n",
        "> la lista de cartas de un hot deck es de [1,1,1,1,2,2,2,2,x,x,x,x], siendo las x los numeros de cartas diferentes de 1 y 2.\n",
        "\n",
        "> 1- La probabilidad de obtener un 2 en esta baraja es igual a $\\frac{4}{12} = \\frac{1}{3}$\n",
        "\n",
        "> 2- La probabilidad de obtener un 1 el el primer lanzamiento es de $\\frac{4}{12} = \\frac{1}{3}$.\n",
        "\n",
        " > Ademas la probabilidad de obtener un 1 en el segundo lanzamiento es de $\\frac{3}{12}$ , por lo que la probabilidad de estos dos eventos es de  $\\frac{4}{12} * \\frac{3}{12} = \\frac{1}{12}$\n",
        "\n",
        "> 3- por lo tanto la probabilidad total de estos dos eventos es de $\\frac{4}{12} + \\frac{1}{12} = \\frac{5}{12} = 0.416666$\n",
        "\n",
        "* Calculo de forma analitica Cold Deck:\n",
        "\n",
        "> Como se pidio el deck con la probabilidad mas baja, ninguna carta de este deck sirve para completar 21, luego la probabilidad es de 0.0. "
      ]
    },
    {
      "cell_type": "code",
      "metadata": {
        "id": "TwIAEza1WKwY",
        "outputId": "90887fa3-6711-4e4c-c1f6-0c2a7b7c63e7",
        "colab": {
          "base_uri": "https://localhost:8080/",
          "height": 1000
        }
      },
      "source": [
        "import random\n",
        "from numba import jit\n",
        "import numpy as np\n",
        "import matplotlib.pyplot \n",
        "import time     \n",
        "\n",
        "#función para remover todos los 10: \n",
        "\n",
        "def diez_inador(cartas):\n",
        "  for i in range(0,len(cartas)):\n",
        "    if cartas[i] > 10:\n",
        "      cartas[i] = 10 \n",
        "\n",
        "\n",
        "#baraja española\n",
        "cartas1 = [1,2,3,4,5,6,7,8,9,10,11,12,1,2,3,4,5,6,7,8,9,10,11,12,1,2,3,4,5,6,7,8,9,10,11,12,1,2,3,4,5,6,7,8,9,10,11,12]\n",
        "\n",
        "#baraja de poker \n",
        "cartas2 = [1,2,3,4,5,6,7,8,9,10,11,12,13,1,2,3,4,5,6,7,8,9,10,11,12,13,1,2,3,4,5,6,7,8,9,10,11,12,13,1,2,3,4,5,6,7,8,9,10,11,12,13]\n",
        "\n",
        "#se remueven cambian los numeros mayores a 10 por numeros \"10\", se ordena la lista y se vuelve un np.array\n",
        "diez_inador(cartas1)\n",
        "diez_inador(cartas2)\n",
        "cartas1.sort()\n",
        "cartas2.sort()\n",
        "cartas1NumPy = np.array(cartas1)\n",
        "cartas2NumPy = np.array(cartas2)\n",
        "\n",
        "#creamos el hot deck\n",
        "def hotDeck(cartas, rem):\n",
        "  cont = 0\n",
        "  hot = np.zeros(rem)\n",
        "  for i in cartas:\n",
        "    if i == 2 or i == 1:\n",
        "      hot[cont] = i\n",
        "      cont += 1\n",
        "  temp = np.delete(cartas, np.where(cartas == 2.0))\n",
        "  temp = np.delete(temp, np.where(temp == 1.0))\n",
        "  for i in range(cont, rem):\n",
        "    hot[i] = np.random.choice(temp)\n",
        "  return hot\n",
        "  \n",
        "#creamos el cold deck\n",
        "def coldDeck(cartas,rem):\n",
        "  cold = np.zeros(rem)\n",
        "  temp = np.delete(cartas, np.where(cartas == 2.0))\n",
        "  temp = np.delete(temp, np.where(temp == 1.0))\n",
        "  for i in range(0,rem):\n",
        "    cold[i] = np.random.choice(temp)\n",
        "  return cold \n",
        "\n",
        "#jugamos 21\n",
        "def veintiuna_7_7_5(deck):\n",
        "  cartas = 4\n",
        "  deckT = deck\n",
        "  total = 19 \n",
        "  temp = np.random.choice(deckT)\n",
        "  total = total + temp\n",
        "\n",
        "  #eliminamos de la baraja la carta seleccioanda.\n",
        "  for i in range(0, len(deckT) - 1): \n",
        "      if temp == deckT[i]:\n",
        "        deckT = np.delete(deckT, i)\n",
        "        break \n",
        "\n",
        "  # si la suma de las cartas es menor que 21, sacamos otra. \n",
        "  while total < 21: \n",
        "    temp = np.random.choice(deckT)\n",
        "    total = total + temp\n",
        "    cartas += 1 \n",
        "  \n",
        "  if total == 21:\n",
        "    return np.array([1, cartas])\n",
        "  \n",
        "  if total > 21:\n",
        "    return np.array([0, cartas])\n",
        "\n",
        "\n",
        "def probabilidad_7_7_5(cartas, ciclos, baraja, temperatura):\n",
        "  cont = 0 \n",
        "  index = 0\n",
        "  lista_res = np.zeros(10000)\n",
        "  for i in range(0, ciclos):\n",
        "    res = veintiuna_7_7_5(cartas)\n",
        "    if (res[0] == 1):\n",
        "      if (index < 9999): \n",
        "        lista_res[index] = res[1]\n",
        "        index += 1\n",
        "        cont += 1\n",
        "      else: \n",
        "        cont += 1\n",
        "      \n",
        "  print(\"la probabilidad de sacar 21 con la baraja\", baraja, \"que es\", temperatura, \"es de:\", (cont/ciclos))\n",
        "  print(\"Distribución de las cartas: \")\n",
        "  lista_res = lista_res[lista_res != 0]\n",
        "\n",
        "  matplotlib.pyplot.hist(lista_res, range=[0, 6])\n",
        "  matplotlib.pyplot.show()\n",
        "\n",
        "    \n",
        "hot_deck_spanish_12 = hotDeck(cartas1NumPy, 12)\n",
        "cold_deck_spanish_12 = coldDeck(cartas1NumPy, 12)\n",
        "\n",
        "hot_deck_poker_12 = hotDeck(cartas2NumPy, 12)\n",
        "cold_deck_poker_12 = coldDeck(cartas2NumPy, 12)\n",
        "\n",
        "print(\"Hot deck Spanish\",hot_deck_spanish_12)\n",
        "print(\"Cold deck Spanish\",cold_deck_spanish_12)\n",
        "print(\"Hot deck Poker\",hot_deck_poker_12)\n",
        "print(\"cold deck Spanish\",cold_deck_poker_12)\n",
        "\n",
        "lista_cartas_hot_deck_spanish_12 = probabilidad_7_7_5(hot_deck_spanish_12, 1000000, \"Española\", \"Hot Deck\")\n",
        "lista_cartas_cold_deck_spanish_12 = probabilidad_7_7_5(cold_deck_spanish_12, 1000000, \"Española\", \"Cold Deck\")\n",
        "\n",
        "lista_cartas_hot_deck_poker_12 = probabilidad_7_7_5(hot_deck_poker_12, 1000000, \"de Poker\", \"Hot Deck\")\n",
        "lista_cartas_cold_deck_poker_12 = probabilidad_7_7_5(cold_deck_poker_12 , 1000000, \"de Poker\", \"Cold Deck\")\n",
        "\n",
        "\n",
        "\n"
      ],
      "execution_count": null,
      "outputs": [
        {
          "output_type": "stream",
          "text": [
            "Hot deck Spanish [ 1.  1.  1.  1.  2.  2.  2.  2.  8. 10. 10.  8.]\n",
            "Cold deck Spanish [ 5.  5.  4.  6.  3. 10.  9. 10. 10.  5.  4. 10.]\n",
            "Hot deck Poker [ 1.  1.  1.  1.  2.  2.  2.  2. 10.  8.  8.  5.]\n",
            "cold deck Spanish [ 8.  9.  4.  8. 10.  9. 10.  5. 10. 10.  5.  4.]\n",
            "la probabilidad de sacar 21 con la baraja Española que es Hot Deck es de: 0.423962\n",
            "Distribución de las cartas: \n"
          ],
          "name": "stdout"
        },
        {
          "output_type": "display_data",
          "data": {
            "image/png": "[encoded data removed]",
            "text/plain": [
              "<Figure size 432x288 with 1 Axes>"
            ]
          },
          "metadata": {
            "tags": [],
            "needs_background": "light"
          }
        },
        {
          "output_type": "stream",
          "text": [
            "la probabilidad de sacar 21 con la baraja Española que es Cold Deck es de: 0.0\n",
            "Distribución de las cartas: \n"
          ],
          "name": "stdout"
        },
        {
          "output_type": "display_data",
          "data": {
            "image/png": "[encoded data removed]",
            "text/plain": [
              "<Figure size 432x288 with 1 Axes>"
            ]
          },
          "metadata": {
            "tags": [],
            "needs_background": "light"
          }
        },
        {
          "output_type": "stream",
          "text": [
            "la probabilidad de sacar 21 con la baraja de Poker que es Hot Deck es de: 0.42387\n",
            "Distribución de las cartas: \n"
          ],
          "name": "stdout"
        },
        {
          "output_type": "display_data",
          "data": {
            "image/png": "[encoded data removed]",
            "text/plain": [
              "<Figure size 432x288 with 1 Axes>"
            ]
          },
          "metadata": {
            "tags": [],
            "needs_background": "light"
          }
        },
        {
          "output_type": "stream",
          "text": [
            "la probabilidad de sacar 21 con la baraja de Poker que es Cold Deck es de: 0.0\n",
            "Distribución de las cartas: \n"
          ],
          "name": "stdout"
        },
        {
          "output_type": "display_data",
          "data": {
            "image/png": "[encoded data removed]",
            "text/plain": [
              "<Figure size 432x288 with 1 Axes>"
            ]
          },
          "metadata": {
            "tags": [],
            "needs_background": "light"
          }
        }
      ]
    },
    {
      "cell_type": "markdown",
      "metadata": {
        "id": "eD6lD_w2WX47"
      },
      "source": [
        "#Punto 5\n"
      ]
    },
    {
      "cell_type": "code",
      "metadata": {
        "id": "OGgZFVNdWaGB",
        "outputId": "f8a75448-62db-4d5d-d4fa-5b82cb823d4b",
        "colab": {
          "base_uri": "https://localhost:8080/",
          "height": 55
        }
      },
      "source": [
        "import random\n",
        "import matplotlib.pyplot\n",
        "deck_0 = [1,2,3,4,5,6,7,8,9,10,11,12,1,2,3,4,5,6,7,8,9,10,11,12,1,2,3,4,5,6,7,8,9,10,11,12,1,2,3,4,5,6,7,8,9,11,12]\n",
        "deck_1 = [1,2,3,4,5,6,7,8,9,10,11,12,13,1,2,3,4,5,6,7,8,9,10,11,12,13,1,2,3,4,5,6,7,8,9,10,11,12,13,1,2,3,4,5,6,7,8,9,10,11,12,13]\n",
        "\n",
        "def simWeekend(coldDeck):\n",
        "  balance = 0\n",
        "  for _ in range(600):\n",
        "    d = random.randint(0, 9)\n",
        "    deck = [] \n",
        "    sum = 0\n",
        "    nCards = 3\n",
        "    ap = 10\n",
        "\n",
        "    if d == 0:\n",
        "      deck = hotDeck(deck_0, 12).tolist()\n",
        "      sum = 19\n",
        "      ap = 1000\n",
        "    else:\n",
        "      deck = coldDeck.copy()\n",
        "      nCards = 0\n",
        "\n",
        "    while sum < 21:\n",
        "      nCard = random.randint(0, len(deck)-1) ;\n",
        "      sum +=  deck[nCard];\n",
        "      del deck[nCard]\n",
        "      nCards+=1;\n",
        "\n",
        "    if sum == 21:\n",
        "      #setN = np.append(setN,[nCards])\n",
        "      balance += ap\n",
        "    else:\n",
        "      balance += -ap\n",
        "  return balance\n",
        "\n",
        "def simWeekendCards(coldDeck):\n",
        "  setN = np.array([]);\n",
        "  for _ in range(600):\n",
        "    d = random.randint(0, 9)\n",
        "    deck = [] \n",
        "    sum = 0\n",
        "    nCards = 3\n",
        "\n",
        "    if d == 0:\n",
        "      deck = hotDeck(deck_0, 12).tolist()\n",
        "      sum = 19\n",
        "    else:\n",
        "      deck = coldDeck.copy()\n",
        "      nCards = 0\n",
        "\n",
        "    while sum < 21:\n",
        "      nCard = random.randint(0, len(deck)-1) ;\n",
        "      sum +=  deck[nCard];\n",
        "      del deck[nCard]\n",
        "      nCards+=1;\n",
        "\n",
        "    if sum == 21:\n",
        "      setN = np.append(setN,[nCards])\n",
        "  return setN\n",
        "\n",
        "TBalance = 0\n",
        "for _ in range(10000):\n",
        "  TBalance += simWeekend(deck_0)\n",
        "print(\"Balance espanol\",TBalance/10000)\n",
        "\n",
        "TBalance = 0\n",
        "for _ in range(10000):\n",
        "  TBalance += simWeekend(deck_1)\n",
        "print(\"Balance poker\",TBalance/10000)\n",
        "totalCards =  np.array([])\n",
        "\n"
      ],
      "execution_count": null,
      "outputs": [
        {
          "output_type": "stream",
          "text": [
            "Balance espanol -9043.395\n",
            "Balance poker -9249.659\n"
          ],
          "name": "stdout"
        }
      ]
    },
    {
      "cell_type": "markdown",
      "metadata": {
        "id": "LbWYkvaLUff6"
      },
      "source": [
        "# Punto 6\n"
      ]
    },
    {
      "cell_type": "code",
      "metadata": {
        "id": "6ElRnvJG8M-B",
        "outputId": "c9e4b638-2158-45a6-f8fd-58e5dabcf173",
        "colab": {
          "base_uri": "https://localhost:8080/",
          "height": 136
        }
      },
      "source": [
        "import random\n",
        "from numba import jit\n",
        "import numpy as np\n",
        "import matplotlib.mlab as mlab\n",
        "import matplotlib.pyplot as plt\n",
        "import time     \n",
        "\n",
        "#baraja española\n",
        "cartas1 = [1,2,3,4,6,8,9,10,11,12,1,2,3,4,5,6,8,9,10,11,12,1,2,3,4,5,6,7,8,9,10,11,12,1,2,3,4,5,6,7,8,9,10,11,12]  \n",
        "\n",
        "#baraja de poker \n",
        "cartas2 = [1,2,3,4,6,8,9,10,11,12,13,1,2,3,4,5,6,8,9,10,11,12,13,1,2,3,4,5,6,7,8,9,10,11,12,13,1,2,3,4,5,6,7,8,9,10,11,12,13]\n",
        "\n",
        "#baraja española con 10's\n",
        "cartas3 = [1,2,3,4,6,8,9,10,11,12,1,2,3,4,5,6,8,9,10,10,10,1,2,3,4,5,6,7,8,9,10,10,10,1,2,3,4,5,6,7,8,9,10,10,10]  \n",
        "\n",
        "#baraja de poker con 10's\n",
        "cartas4 = [1,2,3,4,6,8,9,10,11,12,13,1,2,3,4,5,6,8,9,10,10,10,10,1,2,3,4,5,6,7,8,9,10,10,10,10,1,2,3,4,5,6,7,8,9,10,10,10,10]\n",
        "\n",
        "cartas1.sort()\n",
        "cartas2.sort()\n",
        "cartas3.sort()\n",
        "cartas4.sort()\n",
        "cartas1NumPy = np.array(cartas1)\n",
        "cartas2NumPy = np.array(cartas2)\n",
        "cartas3NumPy = np.array(cartas3)\n",
        "cartas4NumPy = np.array(cartas4)\n",
        "\n",
        "\n",
        "def hotDeck(cartas, rem):\n",
        "  cont = 0\n",
        "  hot = np.zeros(rem)\n",
        "  for i in cartas:\n",
        "    if i == 2 or i == 1:\n",
        "      hot[cont] = i\n",
        "      cont += 1\n",
        "  temp = np.delete(cartas, np.where(cartas == 2.0))\n",
        "  temp = np.delete(temp, np.where(temp == 1.0))\n",
        "  for i in range(cont, rem): \n",
        "    hot[i] = np.random.choice(temp) \n",
        "  \n",
        "    \n",
        "  return hot\n",
        "print(hotDeck(cartas2NumPy, 12), \"<-   ejemplo hot deck con 12 cartas\")\n",
        "\n",
        "def veintiuna_7_7_5(deck):\n",
        "  cartas = 3\n",
        "  deckT = deck\n",
        "  total = 19 \n",
        "  temp = np.random.choice(deckT)\n",
        "  total = total + temp\n",
        "\n",
        "  #eliminamos de la baraja la carta seleccioanda.\n",
        "  for i in range(0, len(deckT) - 1): \n",
        "      if temp == deckT[i]:\n",
        "        deckT = np.delete(deckT, i)\n",
        "        break \n",
        "\n",
        "  # si la suma de las cartas es menor que 21, sacamos otra. \n",
        "  while total < 21: \n",
        "    temp = np.random.choice(deckT)\n",
        "    total = total + temp\n",
        "    cartas += 1 \n",
        "  \n",
        "  if total == 21:\n",
        "    return 1000\n",
        "  \n",
        "  if total > 21:\n",
        "    return -1000\n",
        "\n",
        "def veintiuna(deck):\n",
        "  np.append(deck, [7, 7,5])#agregamos estos valores a la baraja porque como ven el inicio pusimos las barajas sin dos 7's y sin un 5 para el hot deck , pero esta 21 es con la braja completa , entonces necesita todos los valores \n",
        "  deck.sort()\n",
        "  cartas = 0\n",
        "  deckT = deck\n",
        "  total = 0\n",
        "  temp = np.random.choice(deckT)\n",
        "  total = total + temp\n",
        "\n",
        "  #eliminamos de la baraja la carta seleccioanda.\n",
        "  for i in range(0, len(deckT) - 1): \n",
        "      if temp == deckT[i]:\n",
        "        deckT = np.delete(deckT, i)\n",
        "        break \n",
        "\n",
        "  # si la suma de las cartas es menor que 21, sacamos otra. \n",
        "  while total < 21: \n",
        "    temp = np.random.choice(deckT)\n",
        "    total = total + temp\n",
        "    cartas += 1 \n",
        "  \n",
        "  if total == 21:\n",
        "    return 10\n",
        "  \n",
        "  if total > 21:\n",
        "    return -10\n",
        "\n",
        "\n",
        "      \n",
        "  \n",
        "n=int(input(\"cuantas pruebas quiere hacer: \"))\n",
        "AVGgananciaSpanish=0\n",
        "AVGgananciaPoker=0\n",
        "AVGgananciaSpanish10=0\n",
        "AVGgananciaPoker10=0\n",
        "\n",
        "\n",
        "\n",
        "gananciaSpanish=0\n",
        "gananciaPoker=0\n",
        "gananciaSpanish10=0\n",
        "gananciaPoker10=0\n",
        "\n",
        "\n",
        "\n",
        "for x in range (n):\n",
        "  contPoker8_10_775=0\n",
        "  contPoker8_775=0\n",
        "  contSpanish8_10_775=0\n",
        "  contSpanish8_775=0\n",
        "  contPoker10=0\n",
        "  contPoker=0\n",
        "  contSpanish10=0\n",
        "  contSpanish=0\n",
        "\n",
        "  contSpanish8_775+=veintiuna_7_7_5(hotDeck(cartas1NumPy, 8))*0.1\n",
        "  contPoker8_775+=veintiuna_7_7_5(hotDeck(cartas2NumPy, 8)) *0.1\n",
        "  contSpanish8_10_775+=veintiuna_7_7_5(hotDeck(cartas3NumPy, 8))*0.1\n",
        "  contPoker8_10_775+=veintiuna_7_7_5(hotDeck(cartas4NumPy, 8))*0.1  \n",
        "\n",
        "  contSpanish+=veintiuna(cartas1NumPy)*0.9\n",
        "  contPoker+=veintiuna(cartas2NumPy)*0.9\n",
        "  contSpanish10+=veintiuna(cartas3NumPy)*0.9\n",
        "  contPoker10+=veintiuna(cartas4NumPy)*0.9\n",
        "  \n",
        "  gananciaSpanish+=contSpanish8_775+contSpanish\n",
        "  gananciaPoker+=contPoker8_775+contPoker\n",
        "  gananciaSpanish10+=contSpanish8_10_775+contSpanish10\n",
        "  gananciaPoker10+=contPoker8_10_775+contPoker10\n",
        "  \n",
        "AVGgananciaSpanish=gananciaSpanish/n*600\n",
        "AVGgananciaPoker=gananciaPoker/n*600\n",
        "AVGgananciaSpanish10=gananciaSpanish10/n*600\n",
        "AVGgananciaPoker10=gananciaPoker10/n*600\n",
        "\n",
        "print (\"Dinero si ganara todas las partidas: \",1000*600)\n",
        "\n",
        "\n",
        "print(\"si Ben juega con baraja española, ganara aprox \",AVGgananciaSpanish,\" dolares.\")\n",
        "print(\"si Ben juega con baraja española con 10's, ganara aprox \",AVGgananciaSpanish10,\" dolares.\")\n",
        "print(\"si Ben juega con baraja poker, ganara aprox \",AVGgananciaPoker,\" dolares.\")\n",
        "print(\"si Ben juega con baraja poker con 10's, ganara aprox \",AVGgananciaPoker10,\" dolares.\")\n",
        "\n"
      ],
      "execution_count": null,
      "outputs": [
        {
          "output_type": "stream",
          "text": [
            "[ 1.  1.  1.  1.  2.  2.  2.  2. 13. 13.  6.  6.] <-   ejemplo hot deck con 12 cartas\n",
            "cuantas pruebas quiere hacer: 100\n",
            "Dinero si ganara todas las partidas:  600000\n",
            "si Ben juega con baraja española, ganara aprox  17160.0  dolares.\n",
            "si Ben juega con baraja española con 10's, ganara aprox  26652.0  dolares.\n",
            "si Ben juega con baraja poker, ganara aprox  30587.999999999996  dolares.\n",
            "si Ben juega con baraja poker con 10's, ganara aprox  21636.0  dolares.\n"
          ],
          "name": "stdout"
        }
      ]
    }
  ]
}